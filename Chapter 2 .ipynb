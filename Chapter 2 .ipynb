{
 "cells": [
  {
   "cell_type": "markdown",
   "id": "f6ed31ee",
   "metadata": {},
   "source": [
    "x=0.6\n",
    "x=3.9*x*(1-x)\n",
    "print(x)"
   ]
  },
  {
   "cell_type": "markdown",
   "id": "aab58ac6",
   "metadata": {},
   "source": [
    "xx=2\n",
    "xx=xx+2\n",
    "print(xx)"
   ]
  },
  {
   "cell_type": "markdown",
   "id": "d2301d99",
   "metadata": {},
   "source": [
    "jj=23\n",
    "kk=jj%5\n",
    "print(kk)"
   ]
  },
  {
   "cell_type": "markdown",
   "id": "f2dc49ff",
   "metadata": {},
   "source": [
    "print(4**3)"
   ]
  },
  {
   "cell_type": "markdown",
   "id": "4aa211c3",
   "metadata": {},
   "source": [
    "x= 1 + 2 * 3 - 4 / 5 ** 6\n",
    "print(x)"
   ]
  },
  {
   "cell_type": "markdown",
   "id": "357b0d21",
   "metadata": {},
   "source": [
    "x = 1 + 2 ** 3 / 4 * 5\n",
    "print(x)"
   ]
  },
  {
   "cell_type": "markdown",
   "id": "17db873c",
   "metadata": {},
   "source": [
    "nam = input('Who are you?')\n",
    "print('Welcome' , nam)"
   ]
  },
  {
   "cell_type": "markdown",
   "id": "0ea65b7d",
   "metadata": {},
   "source": [
    "inp = input('Europe floor?')\n",
    "usf = int(inp) + 1\n",
    "print ('US Florr', usf)"
   ]
  },
  {
   "cell_type": "markdown",
   "id": "9b28a4b7",
   "metadata": {},
   "source": []
  },
  {
   "cell_type": "code",
   "execution_count": null,
   "id": "357781cc",
   "metadata": {},
   "outputs": [],
   "source": []
  },
  {
   "cell_type": "code",
   "execution_count": null,
   "id": "774d9071",
   "metadata": {},
   "outputs": [],
   "source": []
  }
 ],
 "metadata": {
  "kernelspec": {
   "display_name": "Python 3 (ipykernel)",
   "language": "python",
   "name": "python3"
  },
  "language_info": {
   "codemirror_mode": {
    "name": "ipython",
    "version": 3
   },
   "file_extension": ".py",
   "mimetype": "text/x-python",
   "name": "python",
   "nbconvert_exporter": "python",
   "pygments_lexer": "ipython3",
   "version": "3.11.4"
  }
 },
 "nbformat": 4,
 "nbformat_minor": 5
}
